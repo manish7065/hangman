{
 "cells": [
  {
   "cell_type": "code",
   "execution_count": 1,
   "id": "297328ca",
   "metadata": {},
   "outputs": [],
   "source": [
    "import pandas as pd\n"
   ]
  },
  {
   "cell_type": "code",
   "execution_count": 2,
   "id": "9f59e02e",
   "metadata": {},
   "outputs": [],
   "source": [
    "with open(\"words_250000_train.txt\",'r')as file:\n",
    "    content = file.read()"
   ]
  },
  {
   "cell_type": "code",
   "execution_count": 3,
   "id": "ebf1bd66",
   "metadata": {},
   "outputs": [],
   "source": [
    "word_list = []\n",
    "for i in content.split(\"\\n\"):\n",
    "    word_list.append(i)"
   ]
  },
  {
   "cell_type": "code",
   "execution_count": null,
   "id": "d4894ed7",
   "metadata": {},
   "outputs": [],
   "source": []
  },
  {
   "cell_type": "code",
   "execution_count": 4,
   "id": "46c27492",
   "metadata": {},
   "outputs": [
    {
     "data": {
      "text/plain": [
       "227301"
      ]
     },
     "execution_count": 4,
     "metadata": {},
     "output_type": "execute_result"
    }
   ],
   "source": [
    "#length of word\n",
    "len(word_list)"
   ]
  },
  {
   "cell_type": "code",
   "execution_count": 5,
   "id": "9c5c0e3b",
   "metadata": {},
   "outputs": [],
   "source": [
    "training_set = word_list  # Load the training set\n",
    "\n",
    "letter_frequencies = {}  # Dictionary to store letter frequencies\n",
    "\n",
    "# Iterate through each word in the training set\n",
    "for word in training_set:\n",
    "    # Iterate through each letter in the word\n",
    "    for letter in word:\n",
    "        # Update the frequency count of the letter\n",
    "        if letter in letter_frequencies:\n",
    "            letter_frequencies[letter] += 1\n",
    "        else:\n",
    "            letter_frequencies[letter] = 1\n",
    "\n",
    "# Normalize the frequencies (optional)\n",
    "total_letters = sum(letter_frequencies.values())\n",
    "normalized_frequencies = {letter: count / total_letters for letter, count in letter_frequencies.items()}\n"
   ]
  },
  {
   "cell_type": "code",
   "execution_count": 6,
   "id": "3d8d629e",
   "metadata": {},
   "outputs": [
    {
     "data": {
      "text/plain": [
       "dict_items([('a', 179837), ('s', 148462), ('c', 89367), ('h', 58051), ('e', 233745), ('n', 152259), ('g', 51850), ('d', 74856), ('l', 122431), ('u', 77304), ('i', 184746), ('t', 137277), ('m', 62191), ('o', 150052), ('p', 65785), ('r', 149228), ('v', 21057), ('k', 18685), ('w', 17732), ('f', 26431), ('b', 39840), ('x', 6050), ('y', 40985), ('j', 3790), ('z', 8749), ('q', 3986)])"
      ]
     },
     "execution_count": 6,
     "metadata": {},
     "output_type": "execute_result"
    }
   ],
   "source": [
    "letter_frequencies.items()\n"
   ]
  },
  {
   "cell_type": "code",
   "execution_count": 7,
   "id": "d27a0d43",
   "metadata": {},
   "outputs": [
    {
     "data": {
      "text/plain": [
       "2124746"
      ]
     },
     "execution_count": 7,
     "metadata": {},
     "output_type": "execute_result"
    }
   ],
   "source": [
    "total_letters"
   ]
  },
  {
   "cell_type": "code",
   "execution_count": 8,
   "id": "43da8ba4",
   "metadata": {},
   "outputs": [
    {
     "data": {
      "text/plain": [
       "{'a': 0.0846392933555352,\n",
       " 's': 0.06987282244560056,\n",
       " 'c': 0.042060086240896556,\n",
       " 'h': 0.027321383355939956,\n",
       " 'e': 0.11001079658462706,\n",
       " 'n': 0.07165985957850962,\n",
       " 'g': 0.02440291686629837,\n",
       " 'd': 0.03523056402977109,\n",
       " 'l': 0.05762147569638912,\n",
       " 'u': 0.03638270174411436,\n",
       " 'i': 0.08694968716260673,\n",
       " 't': 0.06460866381205095,\n",
       " 'm': 0.0292698515493146,\n",
       " 'o': 0.0706211471865343,\n",
       " 'p': 0.030961347850519544,\n",
       " 'r': 0.07023333612582398,\n",
       " 'v': 0.009910361050214943,\n",
       " 'k': 0.008793992317199326,\n",
       " 'w': 0.008345468117130236,\n",
       " 'f': 0.012439604545672753,\n",
       " 'b': 0.018750476527547293,\n",
       " 'x': 0.0028473991714774377,\n",
       " 'y': 0.019289364469917816,\n",
       " 'j': 0.00178374262147099,\n",
       " 'z': 0.004117668653100182,\n",
       " 'q': 0.0018759889417370359}"
      ]
     },
     "execution_count": 8,
     "metadata": {},
     "output_type": "execute_result"
    }
   ],
   "source": [
    "normalized_frequencies"
   ]
  },
  {
   "cell_type": "code",
   "execution_count": 9,
   "id": "cc4129e4",
   "metadata": {},
   "outputs": [
    {
     "data": {
      "text/plain": [
       "26"
      ]
     },
     "execution_count": 9,
     "metadata": {},
     "output_type": "execute_result"
    }
   ],
   "source": [
    "len(normalized_frequencies)"
   ]
  },
  {
   "cell_type": "code",
   "execution_count": null,
   "id": "85343084",
   "metadata": {},
   "outputs": [],
   "source": []
  },
  {
   "cell_type": "code",
   "execution_count": 10,
   "id": "042ae9a0",
   "metadata": {},
   "outputs": [
    {
     "data": {
      "text/plain": [
       "26"
      ]
     },
     "execution_count": 10,
     "metadata": {},
     "output_type": "execute_result"
    }
   ],
   "source": [
    "len(normalized_frequencies)"
   ]
  },
  {
   "cell_type": "code",
   "execution_count": null,
   "id": "95e4aa45",
   "metadata": {},
   "outputs": [],
   "source": []
  },
  {
   "cell_type": "code",
   "execution_count": 11,
   "id": "c893b301",
   "metadata": {},
   "outputs": [
    {
     "name": "stdout",
     "output_type": "stream",
     "text": [
      "Guessed letter: a\n",
      "Current word: ________\n",
      "Guessed letter: e\n",
      "Current word: ___e____\n",
      "Guessed letter: i\n",
      "Current word: ___e____\n",
      "Guessed letter: o\n",
      "Current word: ___e____\n",
      "Guessed letter: u\n",
      "Current word: ___e____\n",
      "Guessed letter: r\n",
      "Current word: ___e____\n",
      "Guessed letter: s\n",
      "Current word: ___e____\n",
      "Guessed letter: n\n",
      "Current word: ___e____\n",
      "Game over! The secret word was fellowed.\n"
     ]
    }
   ],
   "source": [
    "import random\n",
    "\n",
    "training_set =word_list  # Load the training set\n",
    "\n",
    "def update_possible_words(possible_words, current_word, guessed_letter):\n",
    "    updated_words = []\n",
    "    for word in possible_words:\n",
    "        if len(word) == len(current_word):\n",
    "            match = True\n",
    "            updated_word = \"\"\n",
    "            for i in range(len(word)):\n",
    "                if current_word[i] == '_':\n",
    "                    if word[i] == guessed_letter:\n",
    "                        updated_word += guessed_letter\n",
    "                    else:\n",
    "                        updated_word += '_'\n",
    "                else:\n",
    "                    updated_word += current_word[i]\n",
    "                    if current_word[i] != word[i]:\n",
    "                        match = False\n",
    "            if match:\n",
    "                updated_words.append(updated_word)\n",
    "    return updated_words\n",
    "\n",
    "def guess_letter(current_word, guessed_letters, possible_words, letter_frequencies):\n",
    "    remaining_letters = [letter for letter in letter_frequencies.keys() if letter not in guessed_letters]\n",
    "    \n",
    "    # Guess vowels first\n",
    "    vowels = ['a', 'e', 'i', 'o', 'u']\n",
    "    for vowel in vowels:\n",
    "        if vowel in remaining_letters:\n",
    "            return vowel\n",
    "    \n",
    "    # Guess based on letter frequencies\n",
    "    possible_words_freq = {letter: 0 for letter in remaining_letters}\n",
    "    \n",
    "    for word in possible_words:\n",
    "        for letter in remaining_letters:\n",
    "            if letter in word:\n",
    "                possible_words_freq[letter] += 1\n",
    "    \n",
    "    guessed_letter = max(possible_words_freq, key=possible_words_freq.get)\n",
    "    \n",
    "    return guessed_letter\n",
    "\n",
    "def play_hangman():\n",
    "    secret_word = random.choice(training_set)\n",
    "    current_word = '_' * len(secret_word)\n",
    "    guessed_letters = []\n",
    "    possible_words = [word for word in training_set if len(word) == len(secret_word)]\n",
    "    \n",
    "    letter_frequencies = {}\n",
    "    for word in training_set:\n",
    "        for letter in word:\n",
    "            if letter in letter_frequencies:\n",
    "                letter_frequencies[letter] += 1\n",
    "            else:\n",
    "                letter_frequencies[letter] = 1\n",
    "    \n",
    "    attempts = 0\n",
    "    max_attempts = 6\n",
    "    \n",
    "    while attempts < max_attempts:\n",
    "        guessed_letter = guess_letter(current_word, guessed_letters, possible_words, letter_frequencies)\n",
    "        guessed_letters.append(guessed_letter)\n",
    "        \n",
    "        if guessed_letter in secret_word:\n",
    "            current_word = update_possible_words(possible_words, current_word, guessed_letter)[0]\n",
    "            \n",
    "            if current_word == secret_word:\n",
    "                print(\"Congratulations! You won!\")\n",
    "                return\n",
    "        else:\n",
    "            attempts += 1\n",
    "            \n",
    "        print(f\"Guessed letter: {guessed_letter}\")\n",
    "        print(f\"Current word: {current_word}\")\n",
    "    \n",
    "    print(f\"Game over! The secret word was {secret_word}.\")\n",
    "\n",
    "play_hangman()\n"
   ]
  },
  {
   "cell_type": "code",
   "execution_count": 12,
   "id": "9eef4d48",
   "metadata": {},
   "outputs": [
    {
     "name": "stdout",
     "output_type": "stream",
     "text": [
      "Guessed word: proffering\n",
      "Guessed word: proffering\n",
      "Guessed word: proffering\n",
      "Guessed word: proffering\n",
      "Guessed word: proffering\n",
      "Guessed word: proffering\n",
      "Game over! The secret word was belemnitic.\n"
     ]
    }
   ],
   "source": [
    "import random\n",
    "\n",
    "training_set = word_list # Load the training set\n",
    "\n",
    "def update_possible_words(possible_words, current_word, guessed_word):\n",
    "    updated_words = []\n",
    "    for word in possible_words:\n",
    "        if len(word) == len(current_word) and word != current_word:\n",
    "            if word == guessed_word:\n",
    "                updated_words.append(word)\n",
    "    return updated_words\n",
    "\n",
    "def guess_word(current_word, possible_words):\n",
    "    return random.choice(possible_words)\n",
    "\n",
    "def play_hangman():\n",
    "    secret_word = random.choice(training_set)\n",
    "    current_word = '_' * len(secret_word)\n",
    "    possible_words = [word for word in training_set if len(word) == len(secret_word)]\n",
    "    \n",
    "    attempts = 0\n",
    "    max_attempts = 6\n",
    "    \n",
    "    while attempts < max_attempts:\n",
    "        guessed_word = guess_word(current_word, possible_words)\n",
    "        \n",
    "        if guessed_word == secret_word:\n",
    "            print(\"Congratulations! You won!\")\n",
    "            return\n",
    "        else:\n",
    "            attempts += 1\n",
    "            possible_words = update_possible_words(possible_words, current_word, guessed_word)\n",
    "        \n",
    "        print(f\"Guessed word: {guessed_word}\")\n",
    "    \n",
    "    print(f\"Game over! The secret word was {secret_word}.\")\n",
    "\n",
    "play_hangman()\n"
   ]
  },
  {
   "cell_type": "code",
   "execution_count": null,
   "id": "93aba90d",
   "metadata": {},
   "outputs": [],
   "source": []
  },
  {
   "cell_type": "code",
   "execution_count": null,
   "id": "d6f7126b",
   "metadata": {},
   "outputs": [],
   "source": []
  }
 ],
 "metadata": {
  "kernelspec": {
   "display_name": "Python 3 (ipykernel)",
   "language": "python",
   "name": "python3"
  },
  "language_info": {
   "codemirror_mode": {
    "name": "ipython",
    "version": 3
   },
   "file_extension": ".py",
   "mimetype": "text/x-python",
   "name": "python",
   "nbconvert_exporter": "python",
   "pygments_lexer": "ipython3",
   "version": "3.8.16"
  }
 },
 "nbformat": 4,
 "nbformat_minor": 5
}
